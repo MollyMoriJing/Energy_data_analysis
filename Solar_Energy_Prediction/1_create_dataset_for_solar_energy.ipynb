{
  "cells": [
    {
      "cell_type": "code",
      "execution_count": 1,
      "metadata": {
        "id": "fT1xsGBD-U2Q"
      },
      "outputs": [],
      "source": [
        "#Import libraries\n",
        "import pandas as pd\n",
        "import numpy as np\n",
        "from datetime import datetime, timedelta"
      ]
    },
    {
      "cell_type": "code",
      "execution_count": 2,
      "metadata": {
        "id": "1z-FegdW-k9d"
      },
      "outputs": [],
      "source": [
        "# Function to generate random datetime within a given range\n",
        "def random_datetime(start_date, end_date):\n",
        "    delta = end_date - start_date\n",
        "    random_delta = np.random.randint(delta.days)\n",
        "    random_time = start_date + timedelta(days=random_delta)\n",
        "    return random_time"
      ]
    },
    {
      "cell_type": "code",
      "execution_count": 3,
      "metadata": {
        "id": "3Nnz9_gJ-sAS"
      },
      "outputs": [],
      "source": [
        "# Generate random dates within a range\n",
        "start_date = datetime(2024, 1, 1)\n",
        "end_date = datetime(2024, 12, 31)\n",
        "dates = [random_datetime(start_date, end_date) for _ in range(1000)]"
      ]
    },
    {
      "cell_type": "code",
      "execution_count": 4,
      "metadata": {
        "id": "4GxA4TUf-wLS"
      },
      "outputs": [],
      "source": [
        "# Generate random times\n",
        "times = [datetime.strftime(datetime.strptime(\"08:00:00\", \"%H:%M:%S\") + timedelta(minutes=np.random.randint(720)), \"%H:%M:%S\") for _ in range(1000)]"
      ]
    },
    {
      "cell_type": "code",
      "execution_count": 5,
      "metadata": {
        "id": "lHjK3iVL-y9q"
      },
      "outputs": [],
      "source": [
        "# Generate random elevation, temperature, humidity, solar irradiance,\n",
        "# cloud cover, wind speed, and solar production\n",
        "elevations = np.random.randint(0, 10, size=1000)\n",
        "temperatures = np.random.randint(10, 40, size=1000)\n",
        "humidity = np.random.randint(30, 90, size=1000)\n",
        "solar_irradiance = np.random.randint(100, 800, size=1000)\n",
        "cloud_cover = np.random.uniform(0, 0.5, size=1000)\n",
        "wind_speed = np.random.uniform(1, 10, size=1000)\n",
        "solar_production = np.random.randint(100, 1000, size=1000)"
      ]
    },
    {
      "cell_type": "code",
      "execution_count": 6,
      "metadata": {
        "id": "qOHSd1h5-1uN"
      },
      "outputs": [],
      "source": [
        "# Create DataFrame\n",
        "data = {\n",
        "    'Date': dates,\n",
        "    'Time': times,\n",
        "    'Elevation': elevations,\n",
        "    'Temperature': temperatures,\n",
        "    'Humidity': humidity,\n",
        "    'Solar_Irradiance': solar_irradiance,\n",
        "    'Cloud_Cover': cloud_cover,\n",
        "    'Wind_Speed': wind_speed,\n",
        "    'Solar_Production': solar_production\n",
        "}\n",
        "\n",
        "df = pd.DataFrame(data)"
      ]
    },
    {
      "cell_type": "code",
      "execution_count": 7,
      "metadata": {
        "id": "XGuwPJWL_CUf"
      },
      "outputs": [],
      "source": [
        "# Save DataFrame to CSV\n",
        "df.to_csv('solar_energy_prediction_dataset.csv', index=False)"
      ]
    }
  ],
  "metadata": {
    "colab": {
      "provenance": []
    },
    "kernelspec": {
      "display_name": "Python 3",
      "name": "python3"
    },
    "language_info": {
      "codemirror_mode": {
        "name": "ipython",
        "version": 3
      },
      "file_extension": ".py",
      "mimetype": "text/x-python",
      "name": "python",
      "nbconvert_exporter": "python",
      "pygments_lexer": "ipython3",
      "version": "3.11.7"
    }
  },
  "nbformat": 4,
  "nbformat_minor": 0
}
